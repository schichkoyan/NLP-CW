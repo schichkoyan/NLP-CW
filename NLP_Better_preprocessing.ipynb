{
 "cells": [
  {
   "cell_type": "markdown",
   "metadata": {},
   "source": [
    "# NLP - Sentiment Analysis from Tweets"
   ]
  },
  {
   "cell_type": "code",
   "execution_count": 297,
   "metadata": {},
   "outputs": [],
   "source": [
    "import csv                               # csv reader\n",
    "from sklearn.svm import LinearSVC\n",
    "from nltk.classify import SklearnClassifier\n",
    "from sklearn.pipeline import Pipeline\n",
    "from sklearn.metrics import precision_recall_fscore_support # to report on precision and recall\n",
    "import numpy as np"
   ]
  },
  {
   "cell_type": "code",
   "execution_count": 298,
   "metadata": {},
   "outputs": [],
   "source": [
    "def load_data(path):\n",
    "    \"\"\"Load data from a tab-separated file and append it to raw_data.\"\"\"\n",
    "    with open(path) as f:\n",
    "        reader = csv.reader(f, delimiter='\\t')\n",
    "        for line in reader:\n",
    "            if line[0] == \"Id\":  # skip header\n",
    "                continue\n",
    "            (label, text) = parse_data_line(line)\n",
    "            raw_data.append((text, label))\n",
    "\n",
    "def split_and_preprocess_data(percentage):\n",
    "    \"\"\"Split the data between train_data and test_data according to the percentage\n",
    "    and performs the preprocessing.\"\"\"\n",
    "    num_samples = len(raw_data)\n",
    "    num_training_samples = int((percentage * num_samples))\n",
    "    for (text, label) in raw_data[:num_training_samples]:\n",
    "        train_data.append((to_feature_vector(pre_process(text)),label))\n",
    "    for (text, label) in raw_data[num_training_samples:]:\n",
    "        test_data.append((to_feature_vector(pre_process(text)),label))"
   ]
  },
  {
   "cell_type": "markdown",
   "metadata": {},
   "source": [
    "# Input and preprocessing"
   ]
  },
  {
   "cell_type": "code",
   "execution_count": 299,
   "metadata": {},
   "outputs": [],
   "source": [
    "def parse_data_line(data_line):\n",
    "    label= data_line[1]\n",
    "    text = data_line[2]\n",
    "    return (label, text)"
   ]
  },
  {
   "cell_type": "code",
   "execution_count": 300,
   "metadata": {},
   "outputs": [],
   "source": [
    "from nltk.tokenize import word_tokenize\n",
    "from nltk.stem import PorterStemmer\n",
    "from nltk.corpus import stopwords\n",
    "from nltk.stem import WordNetLemmatizer\n",
    "import re\n",
    "from textblob import TextBlob\n",
    "\n",
    "\n",
    "\n",
    "# Input: a string of one statement\n",
    "def pre_process(text):\n",
    "    # Tokenization\n",
    "    words = word_tokenize(text)\n",
    "\n",
    "    # Lowercasing\n",
    "    words = [word.lower() for word in words]\n",
    "\n",
    "    # Removing special characters\n",
    "    words = [re.sub(r'[^A-Za-z0-9]', '', word) for word in words]\n",
    "\n",
    "    # Handling negations\n",
    "    negations = set([\"not\", \"no\", \"never\"])\n",
    "    for i in range(len(words)):\n",
    "        if words[i] in negations and i < len(words) - 1:\n",
    "            words[i + 1] = \"not_\" + words[i + 1]\n",
    "\n",
    "    # Removing stopwords\n",
    "    stop_words = set(stopwords.words('english'))\n",
    "    words = [word for word in words if word.isalnum() and word.lower() not in stop_words]\n",
    "\n",
    "    # Lemmatization\n",
    "    lemmatizer = WordNetLemmatizer()\n",
    "    words = [lemmatizer.lemmatize(word) for word in words]\n",
    "\n",
    "    # Stemming\n",
    "    stemmer = PorterStemmer()\n",
    "    words = [stemmer.stem(word) for word in words]\n",
    "\n",
    "    # Expand contractions\n",
    "    contractions = {\"don't\": \"do not\", \"can't\": \"cannot\", \"won't\": \"will not\"}\n",
    "    words = [contractions.get(word, word) for word in words]\n",
    "\n",
    "    # Replace numbers with a placeholder\n",
    "    words = ['number' if word.isdigit() else word for word in words]\n",
    "\n",
    "    # Sentiment analysis\n",
    "    sentiment = TextBlob(text).sentiment\n",
    "    words.append('positive' if sentiment.polarity > 0 else 'negative' if sentiment.polarity < 0 else 'neutral')\n",
    "\n",
    "\n",
    "    return words"
   ]
  },
  {
   "cell_type": "markdown",
   "metadata": {},
   "source": [
    "# Feature Extraction"
   ]
  },
  {
   "cell_type": "code",
   "execution_count": 301,
   "metadata": {},
   "outputs": [],
   "source": [
    "from sklearn.feature_extraction.text import TfidfVectorizer\n",
    "from nltk import ngrams\n",
    "\n",
    "global_feature_dict = {}  # A global dictionary of features\n",
    "\n",
    "def to_feature_vector(tokens):\n",
    "    # Create a dictionary to store features\n",
    "    feature_vector = {}\n",
    "    \n",
    "    # Iterate through each token in the list of tokens\n",
    "    for token in tokens:\n",
    "        if token not in global_feature_dict:\n",
    "            global_feature_dict[token] = 0\n",
    "        global_feature_dict[token] += 1\n",
    "\n",
    "        if token not in feature_vector:\n",
    "            feature_vector[token] = 0\n",
    "        feature_vector[token] += 1\n",
    "\n",
    "    \"\"\"#TF-IDF\n",
    "    text = \" \".join(tokens)\n",
    "    vectorizer = TfidfVectorizer()\n",
    "    tfidf_matrix = vectorizer.fit_transform([text])\n",
    "    feature_names = vectorizer.get_feature_names()\n",
    "    feature_vector.update({feature_names[i]: tfidf_matrix[0, i] for i in range(len(feature_names))})\"\"\"\n",
    "\n",
    "    #N-grams (bigrams and trigrams)\n",
    "    bigrams = list(ngrams(tokens, 2))\n",
    "    trigrams = list(ngrams(tokens, 3))\n",
    "    feature_vector.update({\"bigram_\" + \"_\".join(bigram): 1 for bigram in bigrams})\n",
    "    feature_vector.update({\"trigram_\" + \"_\".join(trigram): 1 for trigram in trigrams})\n",
    "\n",
    "    #Document Length\n",
    "    feature_vector[\"document_length\"] = len(tokens)\n",
    "\n",
    "    \n",
    "    return feature_vector"
   ]
  },
  {
   "cell_type": "code",
   "execution_count": 302,
   "metadata": {},
   "outputs": [],
   "source": [
    "# TRAINING AND VALIDATING OUR CLASSIFIER\n",
    "\n",
    "def train_classifier(data, C=1.0, class_weight=None):\n",
    "    print(\"Training Classifier...\")\n",
    "    pipeline = Pipeline([('svc', LinearSVC(C=C, class_weight=class_weight))])\n",
    "    return SklearnClassifier(pipeline).train(data)"
   ]
  },
  {
   "cell_type": "markdown",
   "metadata": {},
   "source": [
    "# Cross-validation "
   ]
  },
  {
   "cell_type": "code",
   "execution_count": 303,
   "metadata": {},
   "outputs": [],
   "source": [
    "from sklearn.metrics import classification_report, accuracy_score\n",
    "import pandas as pd\n",
    "\n",
    "\n",
    "def cross_validate(dataset, folds,test_size=0.2):\n",
    "    cv_results = []\n",
    "    fold_size = int(len(dataset) / folds) + 1\n",
    "\n",
    "    for i in range(0, len(dataset), int(fold_size)):\n",
    "        # Train classifier on current fold (training set)\n",
    "        training_data = dataset[i:i + fold_size]\n",
    "\n",
    "        # Evaluate classifier on remaining folds (test set)\n",
    "        testing_data = []\n",
    "        for j in range(0, folds):\n",
    "            if j == i:\n",
    "                continue\n",
    "            testing_data.extend(dataset[j * fold_size:(j + 1) * fold_size])\n",
    "\n",
    "        # Train and evaluate the classifier\n",
    "        classifier = train_classifier(training_data,C=10,class_weight='balanced')\n",
    "\n",
    "        testing_data_dicts = []\n",
    "\n",
    "        for feature_vector, label in testing_data:\n",
    "            testing_data_dicts.append({feature: value for feature, value in feature_vector.items()})\n",
    "            \n",
    "        predicted_labels = predict_labels(testing_data_dicts, classifier)\n",
    "        true_labels = [label for _, label in testing_data]\n",
    "\n",
    "        # Calculate performance metrics\n",
    "        precision, recall, fscore, _ = precision_recall_fscore_support(true_labels, predicted_labels)\n",
    "        accuracy = accuracy_score(true_labels, predicted_labels)\n",
    "        cv_results.append((precision, recall, fscore, accuracy))\n",
    "\n",
    "        # Calculate average performance across folds\n",
    "        avg_precision = sum(precision) / folds\n",
    "        avg_recall = sum(recall) / folds\n",
    "        avg_fscore = sum(fscore) / folds\n",
    "        avg_accuracy = accuracy\n",
    "\n",
    "        print(\"Average Precision: {:.2f}\".format(avg_precision))\n",
    "        print(\"Average Recall: {:.2f}\".format(avg_recall))\n",
    "        print(\"Average F-Score: {:.2f}\".format(avg_fscore))\n",
    "        print(\"Average Accuracy: {:.2f}\".format(avg_accuracy))\n",
    "\n",
    "     # Create a Pandas DataFrame\n",
    "    results_df = pd.DataFrame(cv_results)\n",
    "\n",
    "     # Rename the columns for better readability\n",
    "    results_df.columns = ['Precision', 'Recall', 'F-Score','Accuracy']\n",
    "\n",
    "    # Print the detailed results\n",
    "    print(\"\\nCross-Validation Results:\")\n",
    "\n",
    "    return results_df"
   ]
  },
  {
   "cell_type": "code",
   "execution_count": 304,
   "metadata": {},
   "outputs": [],
   "source": [
    "# PREDICTING LABELS GIVEN A CLASSIFIER\n",
    "\n",
    "def predict_labels(samples, classifier):\n",
    "    \"\"\"Assuming preprocessed samples, return their predicted labels from the classifier model.\"\"\"\n",
    "    return classifier.classify_many(samples)\n",
    "\n",
    "def predict_label_from_raw(sample, classifier):\n",
    "    \"\"\"Assuming raw text, return its predicted label from the classifier model.\"\"\"\n",
    "    return classifier.classify(to_feature_vector(preProcess(reviewSample)))"
   ]
  },
  {
   "cell_type": "code",
   "execution_count": 305,
   "metadata": {},
   "outputs": [
    {
     "name": "stdout",
     "output_type": "stream",
     "text": [
      "Now 0 rawData, 0 trainData, 0 testData\n",
      "Preparing the dataset...\n",
      "Now 33540 rawData, 0 trainData, 0 testData\n",
      "Preparing training and test data...\n",
      "After split, 33540 rawData, 26832 trainData, 6708 testData\n",
      "Training Samples: \n",
      "26832\n",
      "Features: \n",
      "50594\n"
     ]
    }
   ],
   "source": [
    "# MAIN\n",
    "\n",
    "# loading reviews\n",
    "# initialize global lists that will be appended to by the methods below\n",
    "raw_data = []          # the filtered data from the dataset file\n",
    "train_data = []        # the pre-processed training data as a percentage of the total dataset\n",
    "test_data = []         # the pre-processed test data as a percentage of the total dataset\n",
    "\n",
    "\n",
    "# references to the data files\n",
    "data_file_path = 'sentiment-dataset.tsv'\n",
    "\n",
    "# Do the actual stuff (i.e. call the functions we've made)\n",
    "# We parse the dataset and put it in a raw data list\n",
    "print(\"Now %d rawData, %d trainData, %d testData\" % (len(raw_data), len(train_data), len(test_data)),\n",
    "      \"Preparing the dataset...\",sep='\\n')\n",
    "\n",
    "load_data(data_file_path) \n",
    "\n",
    "# We split the raw dataset into a set of training data and a set of test data (80/20)\n",
    "# You do the cross validation on the 80% (training data)\n",
    "# We print the number of training samples and the number of features before the split\n",
    "print(\"Now %d rawData, %d trainData, %d testData\" % (len(raw_data), len(train_data), len(test_data)),\n",
    "      \"Preparing training and test data...\",sep='\\n')\n",
    "\n",
    "split_and_preprocess_data(0.8)\n",
    "\n",
    "# We print the number of training samples and the number of features after the split\n",
    "print(\"After split, %d rawData, %d trainData, %d testData\" % (len(raw_data), len(train_data), len(test_data)),\n",
    "      \"Training Samples: \", len(train_data), \"Features: \", len(global_feature_dict), sep='\\n')\n"
   ]
  },
  {
   "cell_type": "code",
   "execution_count": 306,
   "metadata": {},
   "outputs": [
    {
     "name": "stdout",
     "output_type": "stream",
     "text": [
      "Training Classifier...\n"
     ]
    },
    {
     "name": "stderr",
     "output_type": "stream",
     "text": [
      "/Users/sako/opt/anaconda3/lib/python3.8/site-packages/sklearn/svm/_base.py:985: ConvergenceWarning: Liblinear failed to converge, increase the number of iterations.\n",
      "  warnings.warn(\"Liblinear failed to converge, increase \"\n"
     ]
    },
    {
     "name": "stdout",
     "output_type": "stream",
     "text": [
      "Average Precision: 0.16\n",
      "Average Recall: 0.15\n",
      "Average F-Score: 0.15\n",
      "Average Accuracy: 0.80\n",
      "Training Classifier...\n"
     ]
    },
    {
     "name": "stderr",
     "output_type": "stream",
     "text": [
      "/Users/sako/opt/anaconda3/lib/python3.8/site-packages/sklearn/svm/_base.py:985: ConvergenceWarning: Liblinear failed to converge, increase the number of iterations.\n",
      "  warnings.warn(\"Liblinear failed to converge, increase \"\n"
     ]
    },
    {
     "name": "stdout",
     "output_type": "stream",
     "text": [
      "Average Precision: 0.16\n",
      "Average Recall: 0.14\n",
      "Average F-Score: 0.14\n",
      "Average Accuracy: 0.77\n",
      "Training Classifier...\n",
      "Average Precision: 0.16\n",
      "Average Recall: 0.16\n",
      "Average F-Score: 0.16\n",
      "Average Accuracy: 0.82\n",
      "Training Classifier...\n",
      "Average Precision: 0.16\n",
      "Average Recall: 0.16\n",
      "Average F-Score: 0.16\n",
      "Average Accuracy: 0.83\n",
      "Training Classifier...\n",
      "Average Precision: 0.16\n",
      "Average Recall: 0.16\n",
      "Average F-Score: 0.16\n",
      "Average Accuracy: 0.83\n",
      "Training Classifier...\n",
      "Average Precision: 0.16\n",
      "Average Recall: 0.16\n",
      "Average F-Score: 0.16\n",
      "Average Accuracy: 0.83\n",
      "Training Classifier...\n"
     ]
    },
    {
     "name": "stderr",
     "output_type": "stream",
     "text": [
      "/Users/sako/opt/anaconda3/lib/python3.8/site-packages/sklearn/svm/_base.py:985: ConvergenceWarning: Liblinear failed to converge, increase the number of iterations.\n",
      "  warnings.warn(\"Liblinear failed to converge, increase \"\n"
     ]
    },
    {
     "name": "stdout",
     "output_type": "stream",
     "text": [
      "Average Precision: 0.17\n",
      "Average Recall: 0.16\n",
      "Average F-Score: 0.16\n",
      "Average Accuracy: 0.83\n",
      "Training Classifier...\n",
      "Average Precision: 0.17\n",
      "Average Recall: 0.16\n",
      "Average F-Score: 0.16\n",
      "Average Accuracy: 0.83\n",
      "Training Classifier...\n",
      "Average Precision: 0.17\n",
      "Average Recall: 0.16\n",
      "Average F-Score: 0.16\n",
      "Average Accuracy: 0.83\n",
      "Training Classifier...\n"
     ]
    },
    {
     "name": "stderr",
     "output_type": "stream",
     "text": [
      "/Users/sako/opt/anaconda3/lib/python3.8/site-packages/sklearn/svm/_base.py:985: ConvergenceWarning: Liblinear failed to converge, increase the number of iterations.\n",
      "  warnings.warn(\"Liblinear failed to converge, increase \"\n"
     ]
    },
    {
     "name": "stdout",
     "output_type": "stream",
     "text": [
      "Average Precision: 0.17\n",
      "Average Recall: 0.16\n",
      "Average F-Score: 0.16\n",
      "Average Accuracy: 0.84\n",
      "\n",
      "Cross-Validation Results:\n"
     ]
    },
    {
     "data": {
      "text/html": [
       "<div>\n",
       "<style scoped>\n",
       "    .dataframe tbody tr th:only-of-type {\n",
       "        vertical-align: middle;\n",
       "    }\n",
       "\n",
       "    .dataframe tbody tr th {\n",
       "        vertical-align: top;\n",
       "    }\n",
       "\n",
       "    .dataframe thead th {\n",
       "        text-align: right;\n",
       "    }\n",
       "</style>\n",
       "<table border=\"1\" class=\"dataframe\">\n",
       "  <thead>\n",
       "    <tr style=\"text-align: right;\">\n",
       "      <th></th>\n",
       "      <th>Precision</th>\n",
       "      <th>Recall</th>\n",
       "      <th>F-Score</th>\n",
       "      <th>Accuracy</th>\n",
       "    </tr>\n",
       "  </thead>\n",
       "  <tbody>\n",
       "    <tr>\n",
       "      <th>0</th>\n",
       "      <td>[0.7923383878691141, 0.8042274786109713]</td>\n",
       "      <td>[0.5864146485528647, 0.9170439329209973]</td>\n",
       "      <td>[0.6739986422267481, 0.8569385687898468]</td>\n",
       "      <td>0.801143</td>\n",
       "    </tr>\n",
       "    <tr>\n",
       "      <th>1</th>\n",
       "      <td>[0.801195219123506, 0.758802494039978]</td>\n",
       "      <td>[0.43326510826241516, 0.9431306627158242]</td>\n",
       "      <td>[0.562399496609103, 0.8409847310789869]</td>\n",
       "      <td>0.766734</td>\n",
       "    </tr>\n",
       "    <tr>\n",
       "      <th>2</th>\n",
       "      <td>[0.7630568803070839, 0.8506717850287908]</td>\n",
       "      <td>[0.7066681029839491, 0.8839250099720782]</td>\n",
       "      <td>[0.7337807606263983, 0.8669796557120502]</td>\n",
       "      <td>0.822600</td>\n",
       "    </tr>\n",
       "    <tr>\n",
       "      <th>3</th>\n",
       "      <td>[0.7810354857475277, 0.8590776991829796]</td>\n",
       "      <td>[0.7231498438004955, 0.8927574220753319]</td>\n",
       "      <td>[0.7509788566953798, 0.8755938076342702]</td>\n",
       "      <td>0.834079</td>\n",
       "    </tr>\n",
       "    <tr>\n",
       "      <th>4</th>\n",
       "      <td>[0.8073997679515277, 0.8416775884665793]</td>\n",
       "      <td>[0.6746741355165357, 0.9148669439854122]</td>\n",
       "      <td>[0.7350938967136151, 0.8767474879860201]</td>\n",
       "      <td>0.831768</td>\n",
       "    </tr>\n",
       "    <tr>\n",
       "      <th>5</th>\n",
       "      <td>[0.8000499875031242, 0.8469994689325544]</td>\n",
       "      <td>[0.6896477431864699, 0.9088267137728645]</td>\n",
       "      <td>[0.7407578825571304, 0.8768245416311607]</td>\n",
       "      <td>0.832998</td>\n",
       "    </tr>\n",
       "    <tr>\n",
       "      <th>6</th>\n",
       "      <td>[0.8135103167301879, 0.8390989959943818]</td>\n",
       "      <td>[0.6668102983949155, 0.9191406917773093]</td>\n",
       "      <td>[0.7328913094956193, 0.877297944087893]</td>\n",
       "      <td>0.831843</td>\n",
       "    </tr>\n",
       "    <tr>\n",
       "      <th>7</th>\n",
       "      <td>[0.8087326120556414, 0.842458569330816]</td>\n",
       "      <td>[0.6763977162555208, 0.9153797937204399]</td>\n",
       "      <td>[0.736669208658415, 0.8774066690335091]</td>\n",
       "      <td>0.832700</td>\n",
       "    </tr>\n",
       "    <tr>\n",
       "      <th>8</th>\n",
       "      <td>[0.814257161892072, 0.8358772701402184]</td>\n",
       "      <td>[0.6583001184961758, 0.9205652743746082]</td>\n",
       "      <td>[0.7280200142959257, 0.8761796290270094]</td>\n",
       "      <td>0.829830</td>\n",
       "    </tr>\n",
       "    <tr>\n",
       "      <th>9</th>\n",
       "      <td>[0.8128300914594873, 0.8440925061618333]</td>\n",
       "      <td>[0.6797371539373047, 0.9172032594449826]</td>\n",
       "      <td>[0.7403496421447847, 0.879130482276476]</td>\n",
       "      <td>0.835048</td>\n",
       "    </tr>\n",
       "  </tbody>\n",
       "</table>\n",
       "</div>"
      ],
      "text/plain": [
       "                                  Precision  \\\n",
       "0  [0.7923383878691141, 0.8042274786109713]   \n",
       "1    [0.801195219123506, 0.758802494039978]   \n",
       "2  [0.7630568803070839, 0.8506717850287908]   \n",
       "3  [0.7810354857475277, 0.8590776991829796]   \n",
       "4  [0.8073997679515277, 0.8416775884665793]   \n",
       "5  [0.8000499875031242, 0.8469994689325544]   \n",
       "6  [0.8135103167301879, 0.8390989959943818]   \n",
       "7   [0.8087326120556414, 0.842458569330816]   \n",
       "8   [0.814257161892072, 0.8358772701402184]   \n",
       "9  [0.8128300914594873, 0.8440925061618333]   \n",
       "\n",
       "                                      Recall  \\\n",
       "0   [0.5864146485528647, 0.9170439329209973]   \n",
       "1  [0.43326510826241516, 0.9431306627158242]   \n",
       "2   [0.7066681029839491, 0.8839250099720782]   \n",
       "3   [0.7231498438004955, 0.8927574220753319]   \n",
       "4   [0.6746741355165357, 0.9148669439854122]   \n",
       "5   [0.6896477431864699, 0.9088267137728645]   \n",
       "6   [0.6668102983949155, 0.9191406917773093]   \n",
       "7   [0.6763977162555208, 0.9153797937204399]   \n",
       "8   [0.6583001184961758, 0.9205652743746082]   \n",
       "9   [0.6797371539373047, 0.9172032594449826]   \n",
       "\n",
       "                                    F-Score  Accuracy  \n",
       "0  [0.6739986422267481, 0.8569385687898468]  0.801143  \n",
       "1   [0.562399496609103, 0.8409847310789869]  0.766734  \n",
       "2  [0.7337807606263983, 0.8669796557120502]  0.822600  \n",
       "3  [0.7509788566953798, 0.8755938076342702]  0.834079  \n",
       "4  [0.7350938967136151, 0.8767474879860201]  0.831768  \n",
       "5  [0.7407578825571304, 0.8768245416311607]  0.832998  \n",
       "6   [0.7328913094956193, 0.877297944087893]  0.831843  \n",
       "7   [0.736669208658415, 0.8774066690335091]  0.832700  \n",
       "8  [0.7280200142959257, 0.8761796290270094]  0.829830  \n",
       "9   [0.7403496421447847, 0.879130482276476]  0.835048  "
      ]
     },
     "execution_count": 306,
     "metadata": {},
     "output_type": "execute_result"
    }
   ],
   "source": [
    "cross_validate(train_data, 10)  # will work and output overall performance of p, r, f-score when cv implemented"
   ]
  },
  {
   "cell_type": "markdown",
   "metadata": {},
   "source": [
    "# Error Analysis"
   ]
  },
  {
   "cell_type": "code",
   "execution_count": 307,
   "metadata": {},
   "outputs": [],
   "source": [
    "from sklearn import metrics\n",
    "import matplotlib.pyplot as plt\n",
    "# a function to make the confusion matrix readable and pretty\n",
    "def confusion_matrix_heatmap(y_test, preds, labels):\n",
    "    \"\"\"Function to plot a confusion matrix\"\"\"\n",
    "    # pass labels to the confusion matrix function to ensure right order\n",
    "    # cm = metrics.confusion_matrix(y_test, preds, labels)\n",
    "    cm = metrics.confusion_matrix(y_test, preds, labels=labels)\n",
    "    fig = plt.figure(figsize=(10,10))\n",
    "    ax = fig.add_subplot(111)\n",
    "    cax = ax.matshow(cm)\n",
    "    plt.title('Confusion matrix of the classifier')\n",
    "    fig.colorbar(cax)\n",
    "    ax.set_xticks(np.arange(len(labels)))\n",
    "    ax.set_yticks(np.arange(len(labels)))\n",
    "    ax.set_xticklabels( labels, rotation=45)\n",
    "    ax.set_yticklabels( labels)\n",
    "\n",
    "    for i in range(len(cm)):\n",
    "        for j in range(len(cm)):\n",
    "            text = ax.text(j, i, cm[i, j],\n",
    "                           ha=\"center\", va=\"center\", color=\"w\")\n",
    "\n",
    "    plt.xlabel('Predicted')\n",
    "    plt.ylabel('True')\n",
    "    \n",
    "    # fix for mpl bug that cuts off top/bottom of seaborn viz:\n",
    "    b, t = plt.ylim() # discover the values for bottom and top\n",
    "    b += 0.5 # Add 0.5 to the bottom\n",
    "    t -= 0.5 # Subtract 0.5 from the top\n",
    "    plt.ylim(b, t) # update the ylim(bottom, top) values\n",
    "    plt.show() # ta-da!\n",
    "    plt.show()"
   ]
  },
  {
   "cell_type": "code",
   "execution_count": 308,
   "metadata": {},
   "outputs": [],
   "source": [
    "def error_analysis(classifier, test_data):\n",
    "    \"\"\"Perform error analysis on a simple train-test split.\"\"\"\n",
    "    test_samples, true_labels = zip(*test_data)\n",
    "    predicted_labels = predict_labels(test_samples, classifier)\n",
    "\n",
    "    # Create a list of tuples \n",
    "    errors = [(test_samples[i], true_labels[i], predicted_labels[i]) for i in range(len(test_samples)) if true_labels[i] != predicted_labels[i]]\n",
    "\n",
    "    # Print false positives and false negatives for the positive label\n",
    "    with open('error_analysis2.txt', 'w') as f:\n",
    "        f.write(\"False Positives (Predicted Positive, Actual Negative):\\n\")\n",
    "        for sample, true_label, predicted_label in errors:\n",
    "            if predicted_label == 'positive' and true_label == 'negative':\n",
    "                f.write(f\"Sample: {sample}, Actual: {true_label}, Predicted: {predicted_label}\\n\")\n",
    "\n",
    "        f.write(\"\\nFalse Negatives (Predicted Negative, Actual Positive):\\n\")\n",
    "        for sample, true_label, predicted_label in errors:\n",
    "            if predicted_label == 'negative' and true_label == 'positive':\n",
    "                f.write(f\"Sample: {sample}, Actual: {true_label}, Predicted: {predicted_label}\\n\")\n",
    "\n",
    "    print(\"Error analysis written to error_analysis2.txt\")\n"
   ]
  },
  {
   "cell_type": "code",
   "execution_count": 309,
   "metadata": {},
   "outputs": [
    {
     "name": "stdout",
     "output_type": "stream",
     "text": [
      "Training Classifier...\n"
     ]
    },
    {
     "name": "stderr",
     "output_type": "stream",
     "text": [
      "/Users/sako/opt/anaconda3/lib/python3.8/site-packages/sklearn/svm/_base.py:985: ConvergenceWarning: Liblinear failed to converge, increase the number of iterations.\n",
      "  warnings.warn(\"Liblinear failed to converge, increase \"\n"
     ]
    },
    {
     "name": "stdout",
     "output_type": "stream",
     "text": [
      "Error analysis written to error_analysis2.txt\n"
     ]
    }
   ],
   "source": [
    "classifier = train_classifier(train_data)  # train on the entire training set for simplicity\n",
    "test_samples, true_labels = zip(*test_data)\n",
    "predicted_labels = predict_labels(test_samples, classifier)\n",
    "\n",
    "error_analysis(classifier, test_data)\n"
   ]
  },
  {
   "cell_type": "code",
   "execution_count": 310,
   "metadata": {},
   "outputs": [
    {
     "data": {
      "image/png": "[encoded data removed]",
      "text/plain": [
       "<Figure size 720x720 with 2 Axes>"
      ]
     },
     "metadata": {
      "needs_background": "light"
     },
     "output_type": "display_data"
    }
   ],
   "source": [
    "confusion_matrix_heatmap(true_labels, predicted_labels, ['positive', 'negative'])"
   ]
  },
  {
   "cell_type": "code",
   "execution_count": 312,
   "metadata": {},
   "outputs": [
    {
     "name": "stdout",
     "output_type": "stream",
     "text": [
      "({'tomorrow': 1, 'releas': 1, '58th': 1, 'episod': 1, 'hsonair': 1, 'profil': 1, 'alissadossanto': 1, 'talk': 1, 'storytel': 1, 'beyonc': 1, 'positive': 1, 'bigram_tomorrow_releas': 1, 'bigram_releas_58th': 1, 'bigram_58th_episod': 1, 'bigram_episod_hsonair': 1, 'bigram_hsonair_profil': 1, 'bigram_profil_alissadossanto': 1, 'bigram_alissadossanto_talk': 1, 'bigram_talk_storytel': 1, 'bigram_storytel_beyonc': 1, 'bigram_beyonc_positive': 1, 'trigram_tomorrow_releas_58th': 1, 'trigram_releas_58th_episod': 1, 'trigram_58th_episod_hsonair': 1, 'trigram_episod_hsonair_profil': 1, 'trigram_hsonair_profil_alissadossanto': 1, 'trigram_profil_alissadossanto_talk': 1, 'trigram_alissadossanto_talk_storytel': 1, 'trigram_talk_storytel_beyonc': 1, 'trigram_storytel_beyonc_positive': 1, 'document_length': 11}, 'positive')\n",
      "Training Classifier...\n"
     ]
    },
    {
     "name": "stderr",
     "output_type": "stream",
     "text": [
      "/Users/sako/opt/anaconda3/lib/python3.8/site-packages/sklearn/svm/_base.py:985: ConvergenceWarning: Liblinear failed to converge, increase the number of iterations.\n",
      "  warnings.warn(\"Liblinear failed to converge, increase \"\n"
     ]
    },
    {
     "name": "stdout",
     "output_type": "stream",
     "text": [
      "Done training!\n",
      "Precision: 0.870275\n",
      "Recall: 0.871348\n",
      "F Score:0.869553\n"
     ]
    }
   ],
   "source": [
    "# Finally, check the accuracy of your classifier by training on all the traning data\n",
    "# and testing on the test set\n",
    "# Will only work once all functions are complete\n",
    "functions_complete = True  # set to True once you're happy with your methods for cross val\n",
    "if functions_complete:\n",
    "    print(test_data[0])   # have a look at the first test data instance\n",
    "    classifier = train_classifier(train_data)  # train the classifier\n",
    "    test_true = [t[1] for t in test_data]   # get the ground-truth labels from the data\n",
    "    test_pred = predict_labels([x[0] for x in test_data], classifier)  # classify the test data to get predicted labels\n",
    "    final_scores = precision_recall_fscore_support(test_true, test_pred, average='weighted') # evaluate\n",
    "    print(\"Done training!\")\n",
    "    print(\"Precision: %f\\nRecall: %f\\nF Score:%f\" % final_scores[:3])"
   ]
  }
 ],
 "metadata": {
  "kernelspec": {
   "display_name": "Python 3 (ipykernel)",
   "language": "python",
   "name": "python3"
  },
  "language_info": {
   "codemirror_mode": {
    "name": "ipython",
    "version": 3
   },
   "file_extension": ".py",
   "mimetype": "text/x-python",
   "name": "python",
   "nbconvert_exporter": "python",
   "pygments_lexer": "ipython3",
   "version": "3.8.8"
  }
 },
 "nbformat": 4,
 "nbformat_minor": 4
}
